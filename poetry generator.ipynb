{
 "cells": [
  {
   "cell_type": "code",
   "execution_count": null,
   "metadata": {
    "id": "eLh8z_hEUCTY"
   },
   "outputs": [],
   "source": [
    "# inspired by lazyprogrammer\n",
    "\n",
    "\n",
    "import numpy as np\n",
    "import string\n",
    "\n",
    "np.random.seed(1234)"
   ]
  },
  {
   "cell_type": "code",
   "execution_count": null,
   "metadata": {
    "id": "TR6uHGtBUbFm"
   },
   "outputs": [],
   "source": [
    "initial = {}        # start of a phrase\n",
    "\n",
    "first_order = {}    # second word only\n",
    "second_order = {}"
   ]
  },
  {
   "cell_type": "code",
   "execution_count": null,
   "metadata": {
    "id": "LNP9na4yUelU"
   },
   "outputs": [],
   "source": [
    "def remove_punctuation(s):\n",
    "    return s.translate( str.maketrans('', '', string.punctuation) )"
   ]
  },
  {
   "cell_type": "code",
   "execution_count": null,
   "metadata": {
    "id": "S0mbp9FPUk4o"
   },
   "outputs": [],
   "source": [
    "def add2dict(d, k, v):\n",
    "  '''\n",
    "  [cat, cat, dog, dog, dog, dog, dog, mouse, ...]\n",
    "  '''\n",
    "\n",
    "  if k not in d:\n",
    "    d[k] = []\n",
    "  \n",
    "  d[k].append(v)\n",
    "\n"
   ]
  },
  {
   "cell_type": "code",
   "execution_count": null,
   "metadata": {
    "id": "FoBDJVw3UrbE"
   },
   "outputs": [],
   "source": [
    "for line in open('robert_frost.txt'):\n",
    "\n",
    "  tokens = remove_punctuation(line.rstrip().lower()).split()\n",
    "  T = len(tokens)\n",
    "  \n",
    "  for i in range(T):\n",
    "    t = tokens[i]\n",
    "  \n",
    "    if i == 0:\n",
    "      initial[t] = initial.get(t, 0.) + 1\n",
    "\n",
    "    else:\n",
    "      t_1 = tokens[i-1]\n",
    "\n",
    "      if i == T - 1:\n",
    "        add2dict(second_order, (t_1, t), 'END')\n",
    "\n",
    "\n",
    "      if i == 1:\n",
    "        add2dict(first_order, t_1, t)\n",
    "      else:\n",
    "        t_2 = tokens[i-2]\n",
    "        add2dict(second_order, (t_2, t_1), t)\n",
    "\n"
   ]
  },
  {
   "cell_type": "code",
   "execution_count": null,
   "metadata": {
    "id": "dq98tbyWU7J5"
   },
   "outputs": [],
   "source": [
    "initial_total = sum(initial.values())\n",
    "\n",
    "for t, c in initial.items():\n",
    "    initial[t] = c / initial_total\n",
    "    "
   ]
  },
  {
   "cell_type": "code",
   "execution_count": null,
   "metadata": {
    "id": "gWr05mfxVBqH"
   },
   "outputs": [],
   "source": [
    "def list2pdict(ts):\n",
    "  '''\n",
    "  [cat, cat, cat, dog, dog, dog, dog, mouse, ...] --> {cat: 0.5, dog: 0.4, mouse: 0.1}\n",
    "  '''\n",
    "\n",
    "  d = {}\n",
    "  n = len(ts)\n",
    "  for t in ts:\n",
    "    d[t] = d.get(t, 0.) + 1\n",
    "  for t, c in d.items():\n",
    "    d[t] = c / n\n",
    "\n",
    "\n",
    "  return d\n",
    "  "
   ]
  },
  {
   "cell_type": "code",
   "execution_count": null,
   "metadata": {
    "id": "rR-QfKjZVMTC"
   },
   "outputs": [],
   "source": [
    "for t_1, ts in first_order.items():\n",
    "  first_order[t_1] = list2pdict(ts)\n",
    "  "
   ]
  },
  {
   "cell_type": "code",
   "execution_count": null,
   "metadata": {
    "id": "HZC4AFs8VPZS"
   },
   "outputs": [],
   "source": [
    "for k, ts in second_order.items():\n",
    "  second_order[k] = list2pdict(ts)\n",
    "  "
   ]
  },
  {
   "cell_type": "code",
   "execution_count": null,
   "metadata": {
    "id": "oTSW8KwMVX8g"
   },
   "outputs": [],
   "source": [
    "def sample_word(d):\n",
    "\n",
    "  p0 = np.random.random()\n",
    "  cumulative = 0\n",
    "\n",
    "  for t, p in d.items():\n",
    "    cumulative += p\n",
    "    if p0 < cumulative:\n",
    "      return t\n",
    "\n",
    "\n",
    "  assert(False) # should never get here"
   ]
  },
  {
   "cell_type": "code",
   "execution_count": null,
   "metadata": {
    "id": "rgLEb5NoVeUW"
   },
   "outputs": [],
   "source": [
    "def generate():\n",
    "  \n",
    "  for i in range(4):    # generate 4 lines\n",
    "    sentence = []\n",
    "\n",
    "    w0 = sample_word(initial)  # initial word\n",
    "    sentence.append(w0)\n",
    "\n",
    "    w1 = sample_word(first_order[w0])   # sample second word\n",
    "    sentence.append(w1)\n",
    "\n",
    "    \n",
    "    while True:    # second-order transitions until END\n",
    "\n",
    "      w2 = sample_word(second_order[(w0, w1)])\n",
    "      \n",
    "      if w2 == 'END':\n",
    "        break\n",
    "    \n",
    "      sentence.append(w2)\n",
    "      w0 = w1\n",
    "      w1 = w2\n",
    "    \n",
    "    \n",
    "    print(' '.join(sentence))\n",
    "    "
   ]
  },
  {
   "cell_type": "code",
   "execution_count": null,
   "metadata": {
    "colab": {
     "base_uri": "https://localhost:8080/"
    },
    "id": "HnkxngVlVn7q",
    "outputId": "1b4f58c3-f36e-41c3-a16d-da71e92b3a51"
   },
   "outputs": [
    {
     "name": "stdout",
     "output_type": "stream",
     "text": [
      "dyou know a person so related to herself\n",
      "you take the polish off the ground\n",
      "no i dont follow you\n",
      "in leaves no step had trodden black\n"
     ]
    }
   ],
   "source": [
    "generate()"
   ]
  }
 ],
 "metadata": {
  "colab": {
   "collapsed_sections": [],
   "name": "Poetry Generator.ipynb",
   "provenance": []
  },
  "kernelspec": {
   "display_name": "Python 3 (ipykernel)",
   "language": "python",
   "name": "python3"
  },
  "language_info": {
   "codemirror_mode": {
    "name": "ipython",
    "version": 3
   },
   "file_extension": ".py",
   "mimetype": "text/x-python",
   "name": "python",
   "nbconvert_exporter": "python",
   "pygments_lexer": "ipython3",
   "version": "3.8.8"
  }
 },
 "nbformat": 4,
 "nbformat_minor": 1
}
